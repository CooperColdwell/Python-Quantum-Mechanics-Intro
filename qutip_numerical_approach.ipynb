{
 "cells": [
  {
   "cell_type": "markdown",
   "id": "b200c645-f7ac-4d7a-897d-505806a629b2",
   "metadata": {
    "tags": []
   },
   "source": [
    "# Introduction to QuTip for Quantum Problems\n",
    "From QuTiP's documentation:   \n",
    "> QuTiP is a python package for calculations and numerical simulations of quantum systems.   \n",
    "> It includes facilities for representing and doing calculations with quantum objects such state vectors (wavefunctions), as bras/kets/density matrices, quantum operators of single and composite systems, and superoperators (useful for defining master equations).   \n",
    "> It also includes solvers for a time-evolution of quantum systems, according to: Schrodinger equation, von Neuman equation, master equations, Floquet formalism, Monte-Carlo quantum trajectors, experimental implementations of the stochastic Schrodinger/master equations.\n",
    "   \n",
    "This notebook follows along as I read through the paper [*Undergraduate Quantum Mechanics: a Numerical Approach using QuTiP*.](Undergraduate_Quantum_Mechanics_a_Numerical_Approach.pdf)"
   ]
  },
  {
   "cell_type": "markdown",
   "id": "7b33b680-a400-4374-a4f0-34d9d47209ed",
   "metadata": {},
   "source": [
    "## A Quick (and incomplete) Intro to QuTiP\n",
    "Python is an *object-oriented* language: an *object* is more-or-less self-contained and has both attributes and methods (functions). You can think of an object as a physical system. This system can act and be acted upon.\n",
    "### Qobj()\n",
    "The object at the core of our `QuTiP` experiments is the `Qobj`. A `Qobj` is a matrix or a vector, and contains attributes that describe the object, like its dimensions and whether it is a bra or a ket state. We will demonstrate the concept of a Qobj, but first let's import the Python packages we will need inorder to work with QuTip:"
   ]
  },
  {
   "cell_type": "code",
   "execution_count": 1,
   "id": "48d70cf0-14b8-43e3-b67c-cb8eae7c88f3",
   "metadata": {},
   "outputs": [],
   "source": [
    "# First import qutip:\n",
    "from qutip import * # the asterisk is a wildcard, basically meaning 'all'\n",
    "# Now import numpy, which contains useful math functionality and matrix/array implementation that is FAST and \n",
    "# EFFICIENT because it's actually based in C\n",
    "import numpy as np\n",
    "from numpy import sqrt, pi, array, sin, cos, arange\n",
    "# Finally, import matplotlib, which allows us to plot things using syntax familiar to MATLAB users.\n",
    "import matplotlib.pyplot as plt"
   ]
  },
  {
   "cell_type": "markdown",
   "id": "7c7e9867-500d-46d5-afb2-f139a9fd5413",
   "metadata": {},
   "source": [
    "Now that we have our necessary dependencies, let's create some quantum objects. Start with a blank object:"
   ]
  },
  {
   "cell_type": "code",
   "execution_count": 2,
   "id": "551900cc-eea1-49cd-ae0e-08010e557a67",
   "metadata": {},
   "outputs": [
    {
     "name": "stdout",
     "output_type": "stream",
     "text": [
      "Quantum object: dims = [[1], [1]], shape = (1, 1), type = bra\n",
      "Qobj data =\n",
      "[[0.]]\n"
     ]
    }
   ],
   "source": [
    "q1 = Qobj()\n",
    "print(q1)"
   ]
  },
  {
   "cell_type": "markdown",
   "id": "7f9f6711-c5c0-42ac-8bca-5c50ea81e826",
   "metadata": {},
   "source": [
    "We can see that `q1` is a 1x1 bra object with a single zero entry. Now let's try specifying some data when we create `q1`:"
   ]
  },
  {
   "cell_type": "code",
   "execution_count": 3,
   "id": "6f7e253c-3817-468f-bb85-a8036484c928",
   "metadata": {},
   "outputs": [
    {
     "name": "stdout",
     "output_type": "stream",
     "text": [
      "Quantum object: dims = [[5], [1]], shape = (5, 1), type = ket\n",
      "Qobj data =\n",
      "[[1.]\n",
      " [2.]\n",
      " [3.]\n",
      " [4.]\n",
      " [5.]]\n"
     ]
    }
   ],
   "source": [
    "q1 = Qobj([[1],[2],[3],[4],[5]])\n",
    "print(q1)"
   ]
  },
  {
   "cell_type": "markdown",
   "id": "81f2a890-10c5-4504-b870-f88f187413cd",
   "metadata": {},
   "source": [
    "We can see that `q1` is a ket vector with $$ \\langle q_1 \\vert = \\begin{pmatrix}1&2&3&4&5\\end{pmatrix}.$$\n",
    "What if we input a column vector instead of a row vector when constructing `q1`?"
   ]
  },
  {
   "cell_type": "code",
   "execution_count": 4,
   "id": "ba30ae20-526e-44b9-b117-7be89c20a7d4",
   "metadata": {},
   "outputs": [
    {
     "name": "stdout",
     "output_type": "stream",
     "text": [
      "Quantum object: dims = [[1], [5]], shape = (1, 5), type = bra\n",
      "Qobj data =\n",
      "[[1. 2. 3. 4. 5.]]\n"
     ]
    }
   ],
   "source": [
    "q1 = Qobj(np.array([[1,2,3,4,5]]))\n",
    "print(q1)"
   ]
  },
  {
   "cell_type": "markdown",
   "id": "375ae8d2-7cb2-4f33-aabb-ca1ca56bb00c",
   "metadata": {},
   "source": [
    "We can see that `q1` is a bra object with $$ \\vert q_1 \\rangle = \\begin{pmatrix}1\\\\2\\\\3\\\\4\\\\5\\end{pmatrix}. $$\n",
    "Let's try inputting a 2x2 matrix into `Qobj()`:"
   ]
  },
  {
   "cell_type": "code",
   "execution_count": 5,
   "id": "a39c48eb-edf2-4f0b-a70f-e32a53f2dc7b",
   "metadata": {},
   "outputs": [
    {
     "name": "stdout",
     "output_type": "stream",
     "text": [
      "Quantum object: dims = [[2], [2]], shape = (2, 2), type = oper, isherm = True\n",
      "Qobj data =\n",
      "[[ 1.  0.]\n",
      " [ 0. -1.]]\n"
     ]
    }
   ],
   "source": [
    "q1 = Qobj(np.array([[1,0],[0,-1]]))\n",
    "print(q1)"
   ]
  },
  {
   "cell_type": "markdown",
   "id": "7797b35e-b0c2-4230-ac62-e11506889540",
   "metadata": {},
   "source": [
    "Here we can see that a quantum object created with the input $$ \\begin{pmatrix} 1 & 0 \\\\ 0 & -1\\end{pmatrix} $$ is a hermitian operator. Notice that if we multiply this input matrix by $ \\frac{\\hbar}{2} $, we get the hermitian operator for the spin operator along the z-axis.\n",
    "### basis()\n",
    "QuTip contains tools to construct objects that are frequently used, one of which is `basis()`, a function to create basis vectors for a Hilbert space. This function is used as `basis(N,m)`, where `N` is the number of levels in the space and `m` is the excited level of the basis vector (all other levels are 0). Let's examine this:"
   ]
  },
  {
   "cell_type": "code",
   "execution_count": 6,
   "id": "296d6939-8f98-4b9d-9c66-bd99e04ad6f3",
   "metadata": {},
   "outputs": [
    {
     "name": "stdout",
     "output_type": "stream",
     "text": [
      "Quantum object: dims = [[2], [1]], shape = (2, 1), type = ket\n",
      "Qobj data =\n",
      "[[0.]\n",
      " [1.]]\n"
     ]
    }
   ],
   "source": [
    "print(basis(2,1))"
   ]
  },
  {
   "cell_type": "markdown",
   "id": "6d573489-791e-4c6f-9b8d-1e9b92628b1b",
   "metadata": {},
   "source": [
    "As you can see, for $ N=2, m=1 $ , the basis vector is $ \\begin{pmatrix} 0\\\\1 \\end{pmatrix}. $"
   ]
  },
  {
   "cell_type": "markdown",
   "id": "3e70d817-7c05-4fc4-a54f-a5fd52f71b08",
   "metadata": {},
   "source": [
    "## Photon Polarization States"
   ]
  },
  {
   "cell_type": "code",
   "execution_count": null,
   "id": "0afb5f30-1fc0-45aa-8d51-6f677f7bf7e2",
   "metadata": {},
   "outputs": [],
   "source": []
  }
 ],
 "metadata": {
  "kernelspec": {
   "display_name": "Python [conda env:quantum]",
   "language": "python",
   "name": "conda-env-quantum-py"
  },
  "language_info": {
   "codemirror_mode": {
    "name": "ipython",
    "version": 3
   },
   "file_extension": ".py",
   "mimetype": "text/x-python",
   "name": "python",
   "nbconvert_exporter": "python",
   "pygments_lexer": "ipython3",
   "version": "3.11.2"
  }
 },
 "nbformat": 4,
 "nbformat_minor": 5
}
